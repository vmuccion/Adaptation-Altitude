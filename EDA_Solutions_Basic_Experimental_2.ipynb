{
 "cells": [
  {
   "cell_type": "markdown",
   "id": "228ba3f1",
   "metadata": {},
   "source": [
    "### Notebook for EDA on Solution Database"
   ]
  },
  {
   "cell_type": "code",
   "execution_count": 1,
   "id": "7f5c22b3",
   "metadata": {},
   "outputs": [],
   "source": [
    "import pandas as pd\n",
    "import numpy as np\n",
    "import matplotlib.pyplot as plt\n",
    "import seaborn as sns\n",
    "%matplotlib inline"
   ]
  },
  {
   "cell_type": "code",
   "execution_count": 28,
   "id": "d98adc98",
   "metadata": {},
   "outputs": [],
   "source": [
    "### TODO Add your file path ###\n",
    "file_path = '../'\n",
    "file_path_2 = '../Figures_ver7/'\n",
    "#File that was extracted from the big database having only labelled data. Relevant = 1 means relevant.\n",
    "file_name = 'aaa_solution_export 20231029.xlsx'\n",
    "#file_name = 'aaa_solution_export 20230210.xlsx'\n",
    "df = pd.read_excel(file_path + file_name)"
   ]
  },
  {
   "cell_type": "markdown",
   "id": "0d049496",
   "metadata": {},
   "source": [
    "We now remove some cells, splits the cells with multiple entries and change some text"
   ]
  },
  {
   "cell_type": "code",
   "execution_count": 29,
   "id": "329ecd81",
   "metadata": {},
   "outputs": [],
   "source": [
    "df.drop(['Name','Email address','Contributors','Acknowledgments','Contacts of key institutional partners involved with the solution planning and implementation',\n",
    "         'Is there anything you would like to add with respect to CCA in mountains?'], inplace=True, axis=1)"
   ]
  },
  {
   "cell_type": "code",
   "execution_count": 30,
   "id": "3697cac9",
   "metadata": {},
   "outputs": [],
   "source": [
    "#df['Climate impact(s) addressed'].str.split(';;', expand=True)\n",
    "new = df[\"Climate impact(s) addressed\"].str.split(\";;\", n = -1, expand = True)\n",
    "df[['ClimateImpact_' + str(i) for i in range(new.shape[1])]] = new\n",
    "df = df.replace({np.nan: None})\n",
    "df.drop('Climate impact(s) addressed', axis = 1, inplace=True)\n",
    "del new"
   ]
  },
  {
   "cell_type": "code",
   "execution_count": 31,
   "id": "c54d3dee",
   "metadata": {},
   "outputs": [],
   "source": [
    "#df['Other climate impact(s) addressed'].str.split(',', expand=True)\n",
    "new = df[\"Other climate impact(s) addressed\"].str.split(\";;\", n = -1, expand = True)\n",
    "df[['OtherClimateImpact_' + str(i) for i in range(new.shape[1])]] = new\n",
    "df = df.replace({np.nan: None})\n",
    "df.drop('Other climate impact(s) addressed', axis = 1, inplace=True)\n",
    "del new"
   ]
  },
  {
   "cell_type": "code",
   "execution_count": 32,
   "id": "0f42be32",
   "metadata": {},
   "outputs": [],
   "source": [
    "#df['Mountain range'].str.split(',', expand=True)\n",
    "new = df[\"Mountain range\"].str.split(\",\", n = -1, expand = True)\n",
    "df[['Mountain range_' + str(i) for i in range(new.shape[1])]] = new\n",
    "df = df.replace({np.nan: None})\n",
    "df.drop('Mountain range', axis = 1, inplace=True)\n",
    "del new"
   ]
  },
  {
   "cell_type": "code",
   "execution_count": 33,
   "id": "a073e80f",
   "metadata": {},
   "outputs": [],
   "source": [
    "#df['Mountain ecosystem type(s)'].str.split(',', expand=True)\n",
    "new = df[\"Mountain ecosystem type(s)\"].str.split(\";;\", n = -1, expand = True)\n",
    "df[['Mountain ecosystem type(s)_' + str(i) for i in range(new.shape[1])]] = new\n",
    "df = df.replace({np.nan: None})\n",
    "df.drop('Mountain ecosystem type(s)', axis = 1, inplace=True)\n",
    "del new"
   ]
  },
  {
   "cell_type": "code",
   "execution_count": 34,
   "id": "04e235a6",
   "metadata": {},
   "outputs": [],
   "source": [
    "#df['Solution type(s)'].str.split(',', expand=True)\n",
    "new = df[\"Solution type(s)\"].str.split(\";;\", n = -1, expand = True)\n",
    "df[['Solution type(s)_' + str(i) for i in range(new.shape[1])]] = new\n",
    "df = df.replace({np.nan: None})\n",
    "df.drop('Solution type(s)', axis = 1, inplace=True)\n",
    "del new"
   ]
  },
  {
   "cell_type": "code",
   "execution_count": 35,
   "id": "6920cd6f",
   "metadata": {},
   "outputs": [],
   "source": [
    "#df['Sectors'].str.split(',', expand=True)\n",
    "new = df[\"Sectors\"].str.split(\";;\", n = -1, expand = True)\n",
    "df[['Sectors_' + str(i) for i in range(new.shape[1])]] = new\n",
    "df = df.replace({np.nan: None})\n",
    "df.drop('Sectors', axis = 1, inplace=True)\n",
    "del new"
   ]
  },
  {
   "cell_type": "code",
   "execution_count": 36,
   "id": "7a95f3ef",
   "metadata": {},
   "outputs": [],
   "source": [
    "#df['Co-benefits(s) associated with the solution implementation'].str.split(',', expand=True)\n",
    "new = df[\"Co-benefits(s) associated with the solution implementation\"].str.split(\";;\", n = -1, expand = True)\n",
    "df[['Co-benefits_' + str(i) for i in range(new.shape[1])]] = new\n",
    "df = df.replace({np.nan: None})\n",
    "df.drop('Co-benefits(s) associated with the solution implementation', axis = 1, inplace=True)\n",
    "del new"
   ]
  },
  {
   "cell_type": "code",
   "execution_count": 37,
   "id": "307d13ea",
   "metadata": {},
   "outputs": [],
   "source": [
    "df.replace('Other (Specify)','Others',inplace=True)"
   ]
  },
  {
   "cell_type": "code",
   "execution_count": 38,
   "id": "ab0ddc33",
   "metadata": {},
   "outputs": [],
   "source": [
    "df.replace('Other (specify)','Others',inplace=True)"
   ]
  },
  {
   "cell_type": "code",
   "execution_count": 39,
   "id": "ec9f06f9",
   "metadata": {},
   "outputs": [],
   "source": [
    "df.replace('Other (Please specify)','Others',inplace=True)"
   ]
  },
  {
   "cell_type": "code",
   "execution_count": 40,
   "id": "fd717eae",
   "metadata": {},
   "outputs": [],
   "source": [
    "df.replace('Other (please specify)','Others',inplace=True)"
   ]
  },
  {
   "cell_type": "code",
   "execution_count": 41,
   "id": "011bd2f0",
   "metadata": {},
   "outputs": [],
   "source": [
    "df.replace(to_replace='GLOF(glacial lake outburst floods)', value='GLOF',inplace=True)"
   ]
  },
  {
   "cell_type": "code",
   "execution_count": 42,
   "id": "3383ed48",
   "metadata": {},
   "outputs": [],
   "source": [
    "df.replace(to_replace='Natural snow scarcity (frequency of “bad winters”)', value='Scarcity of natural snow',inplace=True)"
   ]
  },
  {
   "cell_type": "code",
   "execution_count": 43,
   "id": "da4416f4",
   "metadata": {},
   "outputs": [],
   "source": [
    "df.replace(to_replace='GLOF (glacial lake outburst floods)', value='GLOF',inplace=True)"
   ]
  },
  {
   "cell_type": "code",
   "execution_count": 44,
   "id": "dd3bf083",
   "metadata": {},
   "outputs": [],
   "source": [
    "df.replace(to_replace='Periods with low temperatures (frost) and intense rainfall.', value='Low temperature and intense rainfall',inplace= True)"
   ]
  },
  {
   "cell_type": "code",
   "execution_count": 45,
   "id": "12a3c9c4",
   "metadata": {},
   "outputs": [],
   "source": [
    "df.replace(to_replace='Glacial Lake Outburst Floods', value='GLOF',inplace= True)"
   ]
  },
  {
   "cell_type": "code",
   "execution_count": 46,
   "id": "d0bfde88",
   "metadata": {},
   "outputs": [],
   "source": [
    "df.replace(to_replace='Increasing temperature (impacts on precipitation type snowfall vs. rainfall and on snow production capabilities)', \n",
    "           value='Increasing temperature',inplace= True)"
   ]
  },
  {
   "cell_type": "code",
   "execution_count": 47,
   "id": "4665fe61",
   "metadata": {},
   "outputs": [],
   "source": [
    "df.replace(to_replace='soil erosion', value='erosion',inplace=True)"
   ]
  },
  {
   "cell_type": "code",
   "execution_count": null,
   "id": "88433452",
   "metadata": {},
   "outputs": [],
   "source": [
    "df.to_excel('../test.xlsx')"
   ]
  },
  {
   "cell_type": "code",
   "execution_count": 48,
   "id": "e16aec17",
   "metadata": {},
   "outputs": [],
   "source": [
    "df.iloc[:, np.r_[0:1, 50:61]]=df.iloc[:, np.r_[0:1, 50:61]].applymap(lambda s: s.lower() if type(s) == str else s)"
   ]
  },
  {
   "cell_type": "code",
   "execution_count": null,
   "id": "6e20e46b",
   "metadata": {},
   "outputs": [],
   "source": [
    "fig, axes = plt.subplots(ncols = 2, nrows =2, figsize = (16,16))\n",
    "data = df.loc[:, df.columns.str.startswith('ClimateImpact_')].apply(pd.Series.value_counts).sum(axis =1).sort_values(ascending=False)\n",
    "data = data.to_frame(name='Number of solutions per climate impact')\n",
    "data.index = data.index.str.capitalize()\n",
    "x0=data[data.index != 'Others']\n",
    "del data\n",
    "\n",
    "data = df.loc[:, df.columns.str.startswith('Solution type(s)_')].apply(pd.Series.value_counts).sum(axis =1).sort_values(ascending=False)\n",
    "data = data.to_frame(name='Number of solutions per solution type')\n",
    "data.index = data.index.str.capitalize()\n",
    "x1=data[data.index != 'Others']\n",
    "del data\n",
    "\n",
    "data = df.loc[:, df.columns.str.startswith('Mountain ecosystem type(s)_')].apply(pd.Series.value_counts).sum(axis =1).sort_values(ascending=False)\n",
    "data = data.to_frame(name='Number of solutions per mountain ecosystem type')\n",
    "data.index = data.index.str.capitalize()\n",
    "x2=data[data.index != 'Others']\n",
    "del data\n",
    "\n",
    "data = df.loc[:, df.columns.str.startswith('Sectors_')].apply(pd.Series.value_counts).sum(axis =1).sort_values(ascending=False)\n",
    "data = data.to_frame(name='Number of solutions per sector')\n",
    "data.index = data.index.str.capitalize()\n",
    "x3=data[data.index != 'Others']\n",
    "del data\n",
    "\n",
    "x0.plot.bar(ax=axes[0,0],color='darksalmon',  edgecolor='firebrick') \n",
    "for p in axes[0,0].containers:\n",
    "    axes[0,0].bar_label(p, fmt='%d', padding=4, fontsize=14, label_type='edge')\n",
    "axes[0,0].set(ylabel=None)\n",
    "axes[0,0].set_xticklabels(axes[0,0].get_xticklabels(), rotation=80, ha='right',fontsize = 14,rotation_mode=\"anchor\")\n",
    "axes[0,0].set_yticklabels([])\n",
    "#ax.set_yticks([])\n",
    "axes[0,0].grid(axis = 'y', linestyle = '--', linewidth = 0.5)\n",
    "#axes[0,0].set_title(label = title, fontsize = 16, pad = 15)\n",
    "axes[0,0].tick_params(bottom = False)\n",
    "axes[0,0].spines[\"bottom\"].set_visible(True)\n",
    "axes[0,0].spines[\"top\"].set_visible(False)\n",
    "axes[0,0].spines[\"right\"].set_visible(False)\n",
    "axes[0,0].spines[\"left\"].set_visible(False)\n",
    "axes[0,0].set_title('Main climate impacts addressed',fontsize = 16,pad = 15)\n",
    "axes[0,0].set_ylim([0, 70])\n",
    "axes[0,0].legend(fontsize = 14)\n",
    "\n",
    "x1.plot.bar(ax=axes[1,0], color = 'yellowgreen',edgecolor='olive') \n",
    "for p in axes[1,0].containers:\n",
    "    axes[1,0].bar_label(p, fmt='%d', padding=4, fontsize=14, label_type='edge')\n",
    "axes[1,0].set(ylabel=None)\n",
    "axes[1,0].set_xticklabels(axes[1,0].get_xticklabels(), rotation=80, ha='right', fontsize = 14,rotation_mode=\"anchor\")\n",
    "axes[1,0].set_yticklabels([])\n",
    "#ax.set_yticks([])\n",
    "axes[1,0].grid(axis = 'y', linestyle = '--', linewidth = 0.5)\n",
    "#axes[1,0].set_title(label = title, fontsize = 14, pad = 15)\n",
    "axes[1,0].tick_params(bottom = False)\n",
    "axes[1,0].spines[\"bottom\"].set_visible(True)\n",
    "axes[1,0].spines[\"top\"].set_visible(False)\n",
    "axes[1,0].spines[\"right\"].set_visible(False)\n",
    "axes[1,0].spines[\"left\"].set_visible(False)\n",
    "axes[1,0].set_title('Solution types',fontsize = 16, pad = 15)\n",
    "axes[1,0].set_ylim([0, 70])\n",
    "axes[1,0].legend(fontsize = 14)\n",
    "\n",
    "x2.plot.bar(ax=axes[0,1], color = 'blue', edgecolor='darkblue') \n",
    "for p in axes[0,1].containers:\n",
    "    axes[0,1].bar_label(p, fmt='%d', padding=4, fontsize=14, label_type='edge')\n",
    "axes[0,1].set(ylabel=None)\n",
    "axes[0,1].set_xticklabels(axes[0,1].get_xticklabels(), rotation=80, ha='right', fontsize = 14,rotation_mode=\"anchor\")\n",
    "axes[0,1].set_yticklabels([])\n",
    "#ax.set_yticks([])\n",
    "axes[0,1].grid(axis = 'y', linestyle = '--', linewidth = 0.5)\n",
    "#axes[0,1].set_title(label = title, fontsize = 14, pad = 15)\n",
    "axes[0,1].tick_params(bottom = False)\n",
    "axes[0,1].spines[\"bottom\"].set_visible(True)\n",
    "axes[0,1].spines[\"top\"].set_visible(False)\n",
    "axes[0,1].spines[\"right\"].set_visible(False)\n",
    "axes[0,1].spines[\"left\"].set_visible(False)\n",
    "axes[0,1].set_title('Mountain ecosystem types',fontsize = 16, pad = 15)\n",
    "axes[0,1].set_ylim([0, 70])\n",
    "axes[0,1].legend(fontsize = 14)\n",
    "\n",
    "x3.plot.bar(ax=axes[1,1],color = 'plum', edgecolor='mediumpurple') \n",
    "for p in axes[1,1].containers:\n",
    "    axes[1,1].bar_label(p, fmt='%d', padding=4, fontsize=14, label_type='edge') \n",
    "axes[1,1].set(ylabel=None)\n",
    "axes[1,1].set_xticklabels(axes[1,1].get_xticklabels(), rotation=80, ha='right', fontsize = 14,rotation_mode=\"anchor\")\n",
    "axes[1,1].set_yticklabels([])\n",
    "#ax.set_yticks([])\n",
    "axes[1,1].grid(axis = 'y', linestyle = '--', linewidth = 0.5)\n",
    "#axes[1,1].set_title(label = title, fontsize = 16, pad = 15)\n",
    "axes[1,1].tick_params(bottom = False)\n",
    "axes[1,1].spines[\"bottom\"].set_visible(True)\n",
    "axes[1,1].spines[\"top\"].set_visible(False)\n",
    "axes[1,1].spines[\"right\"].set_visible(False)\n",
    "axes[1,1].spines[\"left\"].set_visible(False)\n",
    "axes[1,1].set_title('Sectors',fontsize = 16,pad = 15)\n",
    "axes[1,1].set_ylim([0, 70])\n",
    "axes[1,1].legend(fontsize = 14)\n",
    "\n",
    "fig.tight_layout()\n",
    "fig.subplots_adjust(wspace=0.2, hspace = 0.7)\n",
    "figure_name = \"Characteristics_plots\"\n",
    "plt.savefig(file_path_2 + figure_name + '.png', bbox_inches='tight', dpi = 'figure')\n",
    "plt.show()"
   ]
  },
  {
   "cell_type": "code",
   "execution_count": null,
   "id": "59693e42",
   "metadata": {},
   "outputs": [],
   "source": [
    "#Make figure showing only the main climate impacts\n",
    "#This figure is not used in the last version of the manuscript\n",
    "df2 = df[['ClimateImpact_0', 'ClimateImpact_1', 'ClimateImpact_2','ClimateImpact_3','ClimateImpact_4']].apply(pd.Series.value_counts)\n",
    "df2=df2[df2.index != \"others\"]\n",
    "df2.index = df2.index.str.capitalize()\n",
    "title='Main climate impact addressed'\n",
    "ylabel='Number of solutions per climate impact'\n",
    "#ax = ((df2.sum(axis = 1)/df2.sum(axis = 1).sum())*100).sort_values(ascending=False).plot.bar(figsize = (8,6), color='darksalmon',  edgecolor='firebrick') \n",
    "#for p in ax.containers:\n",
    "#    ax.bar_label(p, fmt='%.1f%%', padding=4, label_type='edge')\n",
    "ax = (df2.sum(axis = 1).sort_values(ascending=False)).plot.bar(figsize = (8,6), color='darksalmon',  edgecolor='firebrick') \n",
    "for p in ax.containers:\n",
    "    ax.bar_label(p, fmt='%d', padding=4, label_type='edge')\n",
    "ax.set(ylabel=ylabel)\n",
    "ax.set_xticklabels(ax.get_xticklabels(), rotation=80, ha='right', fontsize = 12,rotation_mode=\"anchor\")\n",
    "ax.set_yticklabels([])\n",
    "#ax.set_yticks([])\n",
    "ax.grid(axis = 'y', linestyle = '--', linewidth = 0.5)\n",
    "ax.set_title(label = title, fontsize = 14, pad = 10)\n",
    "ax.tick_params(bottom = False)\n",
    "ax.spines[\"bottom\"].set_visible(True)\n",
    "ax.spines[\"top\"].set_visible(False)\n",
    "ax.spines[\"right\"].set_visible(False)\n",
    "ax.spines[\"left\"].set_visible(False)\n",
    "figure_name = 'Main_climate_impact'\n",
    "plt.savefig(\n",
    "    file_path_2 + figure_name + '.svg',\n",
    "       bbox_inches='tight', dpi = 'figure')\n",
    "plt.show()\n",
    "del ax"
   ]
  },
  {
   "cell_type": "code",
   "execution_count": null,
   "id": "4e48ef00",
   "metadata": {},
   "outputs": [],
   "source": [
    "# Helper function --> useful but not used in the last version of the manuscript. \n",
    "\n",
    "def charactheristic(data,xx,other,figure_name,color,edgecolor,title,ylabel, figsize):\n",
    "# Function to count instances across Series or columns in a pandas dataframe and calculate the percentage\n",
    "# For head selection and one data series it does not work\n",
    "\n",
    "    \n",
    "    data_new = ((data.apply(pd.Series.value_counts).sum(axis =1))/(data.apply(pd.Series.value_counts).sum(axis =1)).sum())*100\n",
    "    data_new = data_new.to_frame(name=xx)\n",
    "    data_new=data_new[data_new.index != 'others']\n",
    "    title = title\n",
    "    ylabel=ylabel\n",
    "    ax = data_new.sort_values(by=xx,ascending=False).plot.bar(figsize = figsize,color=color,edgecolor=edgecolor, legend =False)\n",
    "    for p in ax.containers:\n",
    "            ax.bar_label(p,fmt='%.1f%%', padding=4, label_type='edge')\n",
    "    ax.set(ylabel=ylabel)\n",
    "    ax.set_xticklabels(ax.get_xticklabels(), rotation=80, ha='right', fontsize = 12,rotation_mode=\"anchor\")\n",
    "    ax.set_yticklabels([])\n",
    "   # ax.set_title(label = title, fontsize = 12, pad = 10)\n",
    "    ax.grid(axis = 'y', linestyle = '--', linewidth = 0.5)\n",
    "    ax.set_title(label = title, fontsize = 14, pad = 10)\n",
    "    ax.tick_params(bottom = False)\n",
    "    ax.spines[\"bottom\"].set_visible(True)\n",
    "    ax.spines[\"top\"].set_visible(False)\n",
    "    ax.spines[\"right\"].set_visible(False)\n",
    "    ax.spines[\"left\"].set_visible(False)\n",
    "    figure_name = figure_name\n",
    "    plt.savefig(\n",
    "    file_path_2 + figure_name + '.svg',\n",
    "       bbox_inches='tight', dpi = 400)\n",
    "    plt.show()\n",
    "    del ax"
   ]
  },
  {
   "cell_type": "code",
   "execution_count": null,
   "id": "87123763",
   "metadata": {},
   "outputs": [],
   "source": [
    "#Figure with the solution types\n",
    "#charactheristic_only_Counts(df.loc[:, df.columns.str.startswith('ClimateImpact_')], xx = 'Frequency', other = 'Others',figure_name = 'Solution_types2', \n",
    "#                color = 'yellowgreen',edgecolor='olive', title = 'Solution types', \n",
    "#                ylabel='Proportion of solution types', figsize = (8,6))"
   ]
  },
  {
   "cell_type": "code",
   "execution_count": null,
   "id": "d611148b",
   "metadata": {},
   "outputs": [],
   "source": [
    "#Figure with the solution types\n",
    "#charactheristic(df.iloc[:,75:81], xx = 'Frequency', other = 'Others',figure_name = 'Solution_types2', \n",
    "#                color = 'yellowgreen',edgecolor='olive', title = 'Solution types', \n",
    "#                ylabel='Proportion of solution types', figsize = (8,6))"
   ]
  },
  {
   "cell_type": "code",
   "execution_count": null,
   "id": "e7c28a65",
   "metadata": {},
   "outputs": [],
   "source": [
    "#Figure with the ecosystem types\n",
    "#charactheristic(df.iloc[:,67:74], xx = 'Frequency',other = 'Others',figure_name = 'EcosystemType_2', \n",
    "#                color = 'blue', edgecolor='darkblue',title = 'Ecosystem types',\n",
    "#                ylabel='Proportion of ecosystem types',figsize = (8,6))"
   ]
  },
  {
   "cell_type": "code",
   "execution_count": null,
   "id": "fc3740c3",
   "metadata": {},
   "outputs": [],
   "source": [
    "#Figure with the sectors\n",
    "#charactheristic(df.iloc[:,82:91], xx = 'Frequency',other = 'Others',figure_name = 'Sectors_2', \n",
    "#                color = 'plum', edgecolor='mediumpurple',title = 'Solutions per sector',\n",
    "#                ylabel='Proportion of solutions per sector', figsize = (8,6))"
   ]
  },
  {
   "cell_type": "code",
   "execution_count": null,
   "id": "11b8cfd1",
   "metadata": {},
   "outputs": [],
   "source": [
    "###Barchart with all impacts (including secondary impacts)\n",
    "#df6 = ((df.iloc[:,50:61].apply(pd.Series.value_counts).sum(axis =1))/(df.iloc[:,50:61].\n",
    "#                                                apply(pd.Series.value_counts).sum(axis =1)).sum())*100\n",
    "\n",
    "#data = df.loc[:, df.columns.str.startswith('Mountain ecosystem type(s)_')]\n",
    "\n",
    "df6 = df.iloc[:,50:61].apply(pd.Series.value_counts).sum(axis =1)\n",
    "\n",
    "df6 = df6.to_frame(name='Number of solutions per climate impact')\n",
    "title='Climate impact addressed (including secondary impacts)'\n",
    "ylabel='Solution couunt'\n",
    "ax = df6[df6.index != 'others'].sort_values(by='Number of solutions per climate impact', ascending=False).head(20).plot.bar(figsize = (15,8),color='darksalmon',edgecolor='firebrick', legend =False)\n",
    "for p in ax.containers:\n",
    "    ax.bar_label(p, fmt='%.1f%%', padding=8, label_type='edge', fontsize = 10)\n",
    "ax.set(ylabel=None)\n",
    "ax.set_xticklabels(ax.get_xticklabels(), rotation=80, ha='right', fontsize = 10, rotation_mode=\"anchor\")\n",
    "ax.set_yticklabels([])\n",
    "ax.grid(axis = 'y', linestyle = '--', linewidth = 0.5)\n",
    "ax.set_title(label = title, fontsize = 12, pad = 10)\n",
    "ax.tick_params(bottom = False)\n",
    "ax.spines[\"bottom\"].set_visible(True)\n",
    "ax.spines[\"top\"].set_visible(False)\n",
    "ax.spines[\"right\"].set_visible(False)\n",
    "ax.spines[\"left\"].set_visible(False)\n",
    "figure_name = 'SecondaryImpacts'\n",
    "plt.savefig(\n",
    "    file_path_2 + figure_name + '.svg',\n",
    "       bbox_inches='tight', dpi = 400)\n",
    "plt.show()"
   ]
  },
  {
   "cell_type": "markdown",
   "id": "f1ca38a4",
   "metadata": {},
   "source": [
    "### Benefits and co-benefits"
   ]
  },
  {
   "cell_type": "code",
   "execution_count": 49,
   "id": "a1a47301",
   "metadata": {},
   "outputs": [
    {
     "name": "stdout",
     "output_type": "stream",
     "text": [
      "<class 'pandas.core.frame.DataFrame'>\n",
      "RangeIndex: 88 entries, 0 to 87\n",
      "Data columns (total 97 columns):\n",
      " #   Column                                                                                                                            Non-Null Count  Dtype  \n",
      "---  ------                                                                                                                            --------------  -----  \n",
      " 0   Title                                                                                                                             88 non-null     object \n",
      " 1   Body                                                                                                                              88 non-null     object \n",
      " 2   Solution location                                                                                                                 88 non-null     object \n",
      " 3   Was the solution implemented in more than one country?                                                                            88 non-null     object \n",
      " 4   What were the other countries?                                                                                                    12 non-null     object \n",
      " 5   Was the solution implemented in multiple locations in the same country?                                                           88 non-null     object \n",
      " 6   Region/province (if applicable)                                                                                                   66 non-null     object \n",
      " 7   Site locations                                                                                                                    64 non-null     object \n",
      " 8   Central location                                                                                                                  77 non-null     object \n",
      " 9   Solution scale                                                                                                                    88 non-null     object \n",
      " 10  Area covered                                                                                                                      28 non-null     object \n",
      " 11  Other mountain ecosystem type(s)                                                                                                  14 non-null     object \n",
      " 12  Other solution type(s) (Please specify)                                                                                           10 non-null     object \n",
      " 13  Other sectors                                                                                                                     5 non-null      object \n",
      " 14  Climate impact time-scale(s)                                                                                                      88 non-null     object \n",
      " 15  Main benefit associated with the solution implementation                                                                          88 non-null     object \n",
      " 16  Other benefit(s) associated with the solution implementation                                                                      4 non-null      object \n",
      " 17  Other co-benefits(s) associated with the solution implementation                                                                  5 non-null      object \n",
      " 18  Main beneficiaries, availability and outcomes                                                                                     88 non-null     object \n",
      " 19  Planning and implementation                                                                                                       88 non-null     object \n",
      " 20  When implementation started (year)                                                                                                82 non-null     float64\n",
      " 21  When implementation ended or the project leading to the solution is due to close (year)                                           77 non-null     float64\n",
      " 22  If precise years are not known, please indicate approximate date when the solution was initiated                                  4 non-null      object \n",
      " 23  Who financed the project?                                                                                                         88 non-null     object \n",
      " 24  Innovation                                                                                                                        86 non-null     object \n",
      " 25  Sendai Framework targets addressed                                                                                                87 non-null     object \n",
      " 26  Sustainable development goals addressed (1 – 17)                                                                                  87 non-null     object \n",
      " 27  Performance evaluation                                                                                                            62 non-null     object \n",
      " 28  Long term project sustainability and maintenance                                                                                  75 non-null     object \n",
      " 29  Knowledge capacities                                                                                                              70 non-null     object \n",
      " 30  [On a 1(min) to 5 (max) Likert scale] How would you evaluate the importance of knowledge capacities in enabling this solution?    67 non-null     float64\n",
      " 31  Technology capacities                                                                                                             61 non-null     object \n",
      " 32  [On a 1(min) to 5 (max) Likert scale] How would you evaluate the importance of technology in enabling this solution?              62 non-null     float64\n",
      " 33  Political / Legal capacities                                                                                                      61 non-null     object \n",
      " 34  [On a 1(min) to 5 (max) Likert scale] How would you evaluate the importance of political motivation in enabling this solution?    63 non-null     float64\n",
      " 35  Institutional capacities                                                                                                          67 non-null     object \n",
      " 36  [On a 1(min) to 5 (max) Likert scale] How would you evaluate the importance of institutional capacities in enabling this solutio  61 non-null     float64\n",
      " 37  Socio-cultural capacities                                                                                                         63 non-null     object \n",
      " 38  [On a 1(min) to 5 (max) Likert scale] How would you evaluate the importance of socio-cultural capacities in enabling this soluti  64 non-null     float64\n",
      " 39  Barriers and adverse effects                                                                                                      65 non-null     object \n",
      " 40  Transformation and future outlook                                                                                                 67 non-null     object \n",
      " 41  Potential for upscaling and replication                                                                                           75 non-null     object \n",
      " 42  Solution links                                                                                                                    77 non-null     object \n",
      " 43  Key references/links with further details on the solution (if available)                                                          25 non-null     object \n",
      " 44  Country                                                                                                                           8 non-null      object \n",
      " 45  Institution                                                                                                                       7 non-null      object \n",
      " 46  Solution status                                                                                                                   87 non-null     object \n",
      " 47  Contributing organisations                                                                                                        84 non-null     object \n",
      " 48  Keywords                                                                                                                          59 non-null     object \n",
      " 49  Annotation                                                                                                                        55 non-null     object \n",
      " 50  ClimateImpact_0                                                                                                                   88 non-null     object \n",
      " 51  ClimateImpact_1                                                                                                                   72 non-null     object \n",
      " 52  ClimateImpact_2                                                                                                                   48 non-null     object \n",
      " 53  ClimateImpact_3                                                                                                                   18 non-null     object \n",
      " 54  ClimateImpact_4                                                                                                                   3 non-null      object \n",
      " 55  OtherClimateImpact_0                                                                                                              43 non-null     object \n",
      " 56  OtherClimateImpact_1                                                                                                              9 non-null      object \n",
      " 57  OtherClimateImpact_2                                                                                                              2 non-null      object \n",
      " 58  OtherClimateImpact_3                                                                                                              1 non-null      object \n",
      " 59  OtherClimateImpact_4                                                                                                              1 non-null      object \n",
      " 60  OtherClimateImpact_5                                                                                                              1 non-null      object \n",
      " 61  OtherClimateImpact_6                                                                                                              1 non-null      object \n",
      " 62  Mountain range_0                                                                                                                  88 non-null     object \n",
      " 63  Mountain range_1                                                                                                                  24 non-null     object \n",
      " 64  Mountain range_2                                                                                                                  12 non-null     object \n",
      " 65  Mountain range_3                                                                                                                  4 non-null      object \n",
      " 66  Mountain range_4                                                                                                                  1 non-null      object \n",
      " 67  Mountain ecosystem type(s)_0                                                                                                      88 non-null     object \n",
      " 68  Mountain ecosystem type(s)_1                                                                                                      62 non-null     object \n",
      " 69  Mountain ecosystem type(s)_2                                                                                                      35 non-null     object \n",
      " 70  Mountain ecosystem type(s)_3                                                                                                      20 non-null     object \n",
      " 71  Mountain ecosystem type(s)_4                                                                                                      8 non-null      object \n",
      " 72  Mountain ecosystem type(s)_5                                                                                                      2 non-null      object \n",
      " 73  Mountain ecosystem type(s)_6                                                                                                      2 non-null      object \n",
      " 74  Mountain ecosystem type(s)_7                                                                                                      1 non-null      object \n",
      " 75  Solution type(s)_0                                                                                                                88 non-null     object \n",
      " 76  Solution type(s)_1                                                                                                                77 non-null     object \n",
      " 77  Solution type(s)_2                                                                                                                51 non-null     object \n",
      " 78  Solution type(s)_3                                                                                                                32 non-null     object \n",
      " 79  Solution type(s)_4                                                                                                                17 non-null     object \n",
      " 80  Solution type(s)_5                                                                                                                7 non-null      object \n",
      " 81  Solution type(s)_6                                                                                                                4 non-null      object \n",
      " 82  Sectors_0                                                                                                                         88 non-null     object \n",
      " 83  Sectors_1                                                                                                                         76 non-null     object \n",
      " 84  Sectors_2                                                                                                                         64 non-null     object \n",
      " 85  Sectors_3                                                                                                                         42 non-null     object \n",
      " 86  Sectors_4                                                                                                                         30 non-null     object \n",
      " 87  Sectors_5                                                                                                                         17 non-null     object \n",
      " 88  Sectors_6                                                                                                                         8 non-null      object \n",
      " 89  Sectors_7                                                                                                                         3 non-null      object \n",
      " 90  Sectors_8                                                                                                                         3 non-null      object \n",
      " 91  Sectors_9                                                                                                                         1 non-null      object \n",
      " 92  Co-benefits_0                                                                                                                     88 non-null     object \n",
      " 93  Co-benefits_1                                                                                                                     80 non-null     object \n",
      " 94  Co-benefits_2                                                                                                                     67 non-null     object \n",
      " 95  Co-benefits_3                                                                                                                     35 non-null     object \n",
      " 96  Co-benefits_4                                                                                                                     9 non-null      object \n",
      "dtypes: float64(7), object(90)\n",
      "memory usage: 66.8+ KB\n"
     ]
    }
   ],
   "source": [
    "df.info()"
   ]
  },
  {
   "cell_type": "code",
   "execution_count": 50,
   "id": "d22ebe31",
   "metadata": {},
   "outputs": [
    {
     "name": "stdout",
     "output_type": "stream",
     "text": [
      "['Main benefit associated with the solution implementation', 'Other benefit(s) associated with the solution implementation', 'Other co-benefits(s) associated with the solution implementation', 'Co-benefits_0', 'Co-benefits_1', 'Co-benefits_2', 'Co-benefits_3', 'Co-benefits_4']\n"
     ]
    }
   ],
   "source": [
    "#Check which column's name contain the SUB-string 'BENEFIT'\n",
    "\n",
    "benefit_cols = [col for col in df.columns if 'benefit' in col]\n",
    "print(benefit_cols)"
   ]
  },
  {
   "cell_type": "code",
   "execution_count": 51,
   "id": "49603101",
   "metadata": {},
   "outputs": [],
   "source": [
    "#MAKE SURE YOU RESET THE INDEX TO TITLE SO TO RETAIN THE UNIQUE IDENTIFIER FOR THE SOLUTION IN THE DATAFRAME WHERE YOU ONLY\n",
    "#SELECT BENEFIT RELATED COLUMNS\n",
    "df_new = df.set_index('Title')"
   ]
  },
  {
   "cell_type": "code",
   "execution_count": 52,
   "id": "fb049dd9",
   "metadata": {},
   "outputs": [],
   "source": [
    "df_new = df_new.filter(regex='benefit')"
   ]
  },
  {
   "cell_type": "code",
   "execution_count": 53,
   "id": "c400c92f",
   "metadata": {},
   "outputs": [
    {
     "name": "stdout",
     "output_type": "stream",
     "text": [
      "<class 'pandas.core.frame.DataFrame'>\n",
      "Index: 88 entries, sustainable watershed management in glacial mountain ecosystems in peru to integrated water resource management: water for virunga project\n",
      "Data columns (total 8 columns):\n",
      " #   Column                                                            Non-Null Count  Dtype \n",
      "---  ------                                                            --------------  ----- \n",
      " 0   Main benefit associated with the solution implementation          88 non-null     object\n",
      " 1   Other benefit(s) associated with the solution implementation      4 non-null      object\n",
      " 2   Other co-benefits(s) associated with the solution implementation  5 non-null      object\n",
      " 3   Co-benefits_0                                                     88 non-null     object\n",
      " 4   Co-benefits_1                                                     80 non-null     object\n",
      " 5   Co-benefits_2                                                     67 non-null     object\n",
      " 6   Co-benefits_3                                                     35 non-null     object\n",
      " 7   Co-benefits_4                                                     9 non-null      object\n",
      "dtypes: object(8)\n",
      "memory usage: 6.2+ KB\n"
     ]
    }
   ],
   "source": [
    "df_new.info()"
   ]
  },
  {
   "cell_type": "code",
   "execution_count": null,
   "id": "040a85ed",
   "metadata": {},
   "outputs": [],
   "source": [
    "#df_new=df.iloc[:, np.r_[0:3, 50:96,15]] #.applymap(lambda s: s.lower() if type(s) == str else s).info()"
   ]
  },
  {
   "cell_type": "code",
   "execution_count": 54,
   "id": "0bf4b9e5",
   "metadata": {},
   "outputs": [],
   "source": [
    "df_new.rename(columns = {'Main benefit associated with the solution implementation':'Main benefit'}, inplace=True)"
   ]
  },
  {
   "cell_type": "code",
   "execution_count": 58,
   "id": "a25811c0",
   "metadata": {},
   "outputs": [
    {
     "data": {
      "text/html": [
       "<div>\n",
       "<style scoped>\n",
       "    .dataframe tbody tr th:only-of-type {\n",
       "        vertical-align: middle;\n",
       "    }\n",
       "\n",
       "    .dataframe tbody tr th {\n",
       "        vertical-align: top;\n",
       "    }\n",
       "\n",
       "    .dataframe thead th {\n",
       "        text-align: right;\n",
       "    }\n",
       "</style>\n",
       "<table border=\"1\" class=\"dataframe\">\n",
       "  <thead>\n",
       "    <tr style=\"text-align: right;\">\n",
       "      <th></th>\n",
       "      <th>Main benefit</th>\n",
       "      <th>Co-benefits_0</th>\n",
       "      <th>Co-benefits_1</th>\n",
       "      <th>Co-benefits_2</th>\n",
       "      <th>Co-benefits_3</th>\n",
       "      <th>Co-benefits_4</th>\n",
       "    </tr>\n",
       "  </thead>\n",
       "  <tbody>\n",
       "    <tr>\n",
       "      <th>Climate risk reduction</th>\n",
       "      <td>32.0</td>\n",
       "      <td>49.0</td>\n",
       "      <td>NaN</td>\n",
       "      <td>NaN</td>\n",
       "      <td>NaN</td>\n",
       "      <td>NaN</td>\n",
       "    </tr>\n",
       "    <tr>\n",
       "      <th>Economic benefits</th>\n",
       "      <td>6.0</td>\n",
       "      <td>2.0</td>\n",
       "      <td>18.0</td>\n",
       "      <td>25.0</td>\n",
       "      <td>10.0</td>\n",
       "      <td>NaN</td>\n",
       "    </tr>\n",
       "    <tr>\n",
       "      <th>Environmental benefits</th>\n",
       "      <td>33.0</td>\n",
       "      <td>3.0</td>\n",
       "      <td>8.0</td>\n",
       "      <td>22.0</td>\n",
       "      <td>15.0</td>\n",
       "      <td>1.0</td>\n",
       "    </tr>\n",
       "    <tr>\n",
       "      <th>Other</th>\n",
       "      <td>3.0</td>\n",
       "      <td>NaN</td>\n",
       "      <td>NaN</td>\n",
       "      <td>NaN</td>\n",
       "      <td>NaN</td>\n",
       "      <td>NaN</td>\n",
       "    </tr>\n",
       "    <tr>\n",
       "      <th>Others</th>\n",
       "      <td>NaN</td>\n",
       "      <td>1.0</td>\n",
       "      <td>NaN</td>\n",
       "      <td>NaN</td>\n",
       "      <td>2.0</td>\n",
       "      <td>2.0</td>\n",
       "    </tr>\n",
       "    <tr>\n",
       "      <th>Political benefits</th>\n",
       "      <td>NaN</td>\n",
       "      <td>NaN</td>\n",
       "      <td>NaN</td>\n",
       "      <td>3.0</td>\n",
       "      <td>8.0</td>\n",
       "      <td>6.0</td>\n",
       "    </tr>\n",
       "    <tr>\n",
       "      <th>Social benefits</th>\n",
       "      <td>13.0</td>\n",
       "      <td>31.0</td>\n",
       "      <td>35.0</td>\n",
       "      <td>NaN</td>\n",
       "      <td>NaN</td>\n",
       "      <td>NaN</td>\n",
       "    </tr>\n",
       "    <tr>\n",
       "      <th>Technical benefits</th>\n",
       "      <td>1.0</td>\n",
       "      <td>2.0</td>\n",
       "      <td>19.0</td>\n",
       "      <td>17.0</td>\n",
       "      <td>NaN</td>\n",
       "      <td>NaN</td>\n",
       "    </tr>\n",
       "  </tbody>\n",
       "</table>\n",
       "</div>"
      ],
      "text/plain": [
       "                        Main benefit  Co-benefits_0  Co-benefits_1  \\\n",
       "Climate risk reduction          32.0           49.0            NaN   \n",
       "Economic benefits                6.0            2.0           18.0   \n",
       "Environmental benefits          33.0            3.0            8.0   \n",
       "Other                            3.0            NaN            NaN   \n",
       "Others                           NaN            1.0            NaN   \n",
       "Political benefits               NaN            NaN            NaN   \n",
       "Social benefits                 13.0           31.0           35.0   \n",
       "Technical benefits               1.0            2.0           19.0   \n",
       "\n",
       "                        Co-benefits_2  Co-benefits_3  Co-benefits_4  \n",
       "Climate risk reduction            NaN            NaN            NaN  \n",
       "Economic benefits                25.0           10.0            NaN  \n",
       "Environmental benefits           22.0           15.0            1.0  \n",
       "Other                             NaN            NaN            NaN  \n",
       "Others                            NaN            2.0            2.0  \n",
       "Political benefits                3.0            8.0            6.0  \n",
       "Social benefits                   NaN            NaN            NaN  \n",
       "Technical benefits               17.0            NaN            NaN  "
      ]
     },
     "execution_count": 58,
     "metadata": {},
     "output_type": "execute_result"
    }
   ],
   "source": [
    "df_new[['Main benefit','Co-benefits_0','Co-benefits_1','Co-benefits_2','Co-benefits_3','Co-benefits_4']].apply(pd.Series.value_counts)"
   ]
  },
  {
   "cell_type": "code",
   "execution_count": null,
   "id": "0f510b83",
   "metadata": {},
   "outputs": [],
   "source": [
    "df_new['Main benefit']"
   ]
  },
  {
   "cell_type": "code",
   "execution_count": 59,
   "id": "ad3a08e2",
   "metadata": {},
   "outputs": [
    {
     "name": "stderr",
     "output_type": "stream",
     "text": [
      "/var/folders/hd/n13870fj1mv_x9bv1cytjvk80000gn/T/ipykernel_36146/2470333595.py:2: SettingWithCopyWarning: \n",
      "A value is trying to be set on a copy of a slice from a DataFrame\n",
      "\n",
      "See the caveats in the documentation: https://pandas.pydata.org/pandas-docs/stable/user_guide/indexing.html#returning-a-view-versus-a-copy\n",
      "  new.rename(columns={'Co-benefits_0':'Co-benefits_1', 'Co-benefits_1':'Co-benefits_2', 'Co-benefits_2':'Co-benefits_3','Co-benefits_3':'Co-benefits_4', 'Co-benefits_4':'Co-benefits_5'}, inplace = True)\n"
     ]
    }
   ],
   "source": [
    "new = df_new[['Main benefit','Co-benefits_0','Co-benefits_1','Co-benefits_2','Co-benefits_3', 'Co-benefits_4']]\n",
    "new.rename(columns={'Co-benefits_0':'Co-benefits_1', 'Co-benefits_1':'Co-benefits_2', 'Co-benefits_2':'Co-benefits_3','Co-benefits_3':'Co-benefits_4', 'Co-benefits_4':'Co-benefits_5'}, inplace = True)\n",
    "categorical_cols = ['Main benefit','Co-benefits_1','Co-benefits_2','Co-benefits_3','Co-benefits_4','Co-benefits_5']\n",
    "benefits = pd.get_dummies(new, columns=categorical_cols)\n",
    "del new\n",
    "#print(new.iloc[:,0].unique())\n",
    "#new[new['Main benefit'] == 'Climate risk reduction'].iloc[:,1:].apply(pd.Series.value_counts).sum(axis =1).plot.bar()"
   ]
  },
  {
   "cell_type": "code",
   "execution_count": null,
   "id": "9bde814a",
   "metadata": {},
   "outputs": [],
   "source": [
    "df6 = ((df.iloc[:,75:81].apply(pd.Series.value_counts).sum(axis =1))/(df.iloc[:,75:81].apply(pd.Series.value_counts).sum(axis =1)).sum())*100"
   ]
  },
  {
   "cell_type": "code",
   "execution_count": 61,
   "id": "2f987633",
   "metadata": {},
   "outputs": [],
   "source": [
    "benefits.reset_index(inplace=True)"
   ]
  },
  {
   "cell_type": "code",
   "execution_count": 63,
   "id": "2ff45828",
   "metadata": {},
   "outputs": [
    {
     "data": {
      "image/png": "[encoded data removed]",
      "text/plain": [
       "<Figure size 1200x500 with 1 Axes>"
      ]
     },
     "metadata": {},
     "output_type": "display_data"
    }
   ],
   "source": [
    "fig, ax = plt.subplots(figsize=(12,5))\n",
    "ax = sns.heatmap(benefits.iloc[:,1:].T, ax=ax, linecolor='white',linewidths=2,cmap=\"BuPu\", cbar = False)\n",
    "ax.tick_params(labelsize=8)\n",
    "figure_name = 'Benefits and co-benefits'\n",
    "plt.savefig(\n",
    "    file_path_2 + figure_name + '.png',\n",
    "       bbox_inches='tight', dpi = 400)\n",
    "plt.show()"
   ]
  },
  {
   "cell_type": "code",
   "execution_count": null,
   "id": "5b88612f",
   "metadata": {},
   "outputs": [],
   "source": [
    "print(\"Do you want to save:\")\n",
    "x = input()\n",
    "if x == 'yes':\n",
    "    df_new.to_excel('/Users/vmuccion/Documents/Projects/AdaptAtAltitutde/df_new_1.xlsx',index = False, header=True)\n",
    "else:\n",
    "    print('No need to save because answer was: ' + x)"
   ]
  },
  {
   "cell_type": "code",
   "execution_count": 64,
   "id": "d33456e0",
   "metadata": {},
   "outputs": [],
   "source": [
    "df7 = df_new[['Main benefit','Co-benefits_0','Co-benefits_1','Co-benefits_2','Co-benefits_3','Co-benefits_4']].apply(pd.Series.value_counts)"
   ]
  },
  {
   "cell_type": "code",
   "execution_count": 65,
   "id": "beae34c6",
   "metadata": {},
   "outputs": [],
   "source": [
    "df7 = df7.drop(['Other', 'Others'])"
   ]
  },
  {
   "cell_type": "code",
   "execution_count": 77,
   "id": "f217d9b3",
   "metadata": {},
   "outputs": [],
   "source": [
    "df7.rename(index={'Technical benefits':'Technology benefits', 'Climate risk reduction': 'Climate risk reduction benefits'}, inplace = True)"
   ]
  },
  {
   "cell_type": "code",
   "execution_count": 78,
   "id": "192cfefd",
   "metadata": {},
   "outputs": [
    {
     "data": {
      "image/png": "[encoded data removed]",
      "text/plain": [
       "<Figure size 800x600 with 1 Axes>"
      ]
     },
     "metadata": {},
     "output_type": "display_data"
    }
   ],
   "source": [
    "#Make figure showing only the main benefits\n",
    "title='Benefits'\n",
    "ylabel='Number of solutions'\n",
    "#ax = ((df7['Main benefit'].fillna(0)/df7['Main benefit'].sum())*100).sort_values(ascending=False).plot.bar(figsize = (8,6), color='teal',  edgecolor='darkcyan') \n",
    "ax = (df7['Main benefit'].fillna(0)).sort_values(ascending=False).plot.bar(figsize = (8,6), color='teal',  edgecolor='darkcyan') \n",
    "for p in ax.containers:\n",
    "    ax.bar_label(p, fmt='%d', padding=4, label_type='edge')\n",
    "ax.set(ylabel=ylabel)\n",
    "ax.set_xticklabels(ax.get_xticklabels(), rotation=80, ha='right', fontsize = 12,rotation_mode=\"anchor\")\n",
    "ax.set_yticklabels([])\n",
    "#ax.set_yticks([])\n",
    "ax.grid(axis = 'y', linestyle = '--', linewidth = 0.5)\n",
    "ax.set_title(label = title, fontsize = 14, pad = 10)\n",
    "ax.tick_params(bottom = False)\n",
    "ax.spines[\"bottom\"].set_visible(True)\n",
    "ax.spines[\"top\"].set_visible(False)\n",
    "ax.spines[\"right\"].set_visible(False)\n",
    "ax.spines[\"left\"].set_visible(False)\n",
    "figure_name = 'Main_benefits'\n",
    "plt.savefig(\n",
    "    file_path_2 + figure_name + '.png',\n",
    "       bbox_inches='tight', dpi = 400)\n",
    "plt.show()\n",
    "del ax"
   ]
  },
  {
   "cell_type": "code",
   "execution_count": null,
   "id": "01f8d0e2",
   "metadata": {},
   "outputs": [],
   "source": [
    "df.head()"
   ]
  },
  {
   "cell_type": "code",
   "execution_count": null,
   "id": "4e3547c4",
   "metadata": {},
   "outputs": [],
   "source": [
    "df.rename(columns={'When implementation started (year)': 'Year started', 'When implementation ended or the project leading to the solution is due to close (year)': 'Year end'}, inplace=True)"
   ]
  },
  {
   "cell_type": "code",
   "execution_count": null,
   "id": "e2d6cd5a",
   "metadata": {},
   "outputs": [],
   "source": [
    "df10 = df[df['Year started'] >0]\n",
    "subgrade_order = sorted(df10['Year started'].unique())\n",
    "x1 = df10['Year started']\n",
    "chart = sns.countplot(x=x1,data=df,order = subgrade_order, palette = 'crest')\n",
    "chart.set_xticklabels(chart.get_xticklabels(), rotation=90)\n",
    "chart.set_title('Number of solutions starting in given year')\n",
    "del df10\n",
    "None"
   ]
  },
  {
   "cell_type": "code",
   "execution_count": null,
   "id": "8a9079c5",
   "metadata": {},
   "outputs": [],
   "source": [
    "df10 = df[df['Year end'] >0]\n",
    "subgrade_order = sorted(df10['Year end'].unique())\n",
    "x1 = df10['Year end'] \n",
    "chart = sns.countplot(x=x1,data=df,order = subgrade_order, palette = 'crest')\n",
    "chart.set_xticklabels(chart.get_xticklabels(), rotation=90)\n",
    "chart.set_title('Number of solutions ending in given year')\n",
    "del df10\n",
    "None"
   ]
  },
  {
   "cell_type": "code",
   "execution_count": null,
   "id": "6d3be75f",
   "metadata": {},
   "outputs": [],
   "source": [
    "df['Duration'] = df['Year end'] - df['Year started']"
   ]
  },
  {
   "cell_type": "code",
   "execution_count": null,
   "id": "ebe3d80b",
   "metadata": {},
   "outputs": [],
   "source": [
    "df10 = df[(df['Duration'] > 0) & (df['Duration'] <40)]\n",
    "subgrade_order = sorted(df10['Duration'].unique())\n",
    "x1 = df10['Duration']\n",
    "chart = sns.histplot(x=x1,data=df, bins= 5, color = 'green')\n",
    "#chart.set_xticklabels(chart.get_xticklabels(), rotation=90)\n",
    "chart.set_title('Duration in years')\n",
    "del df10\n",
    "None"
   ]
  },
  {
   "cell_type": "code",
   "execution_count": null,
   "id": "f8b324a8",
   "metadata": {},
   "outputs": [],
   "source": []
  }
 ],
 "metadata": {
  "kernelspec": {
   "display_name": "Python 3 (ipykernel)",
   "language": "python",
   "name": "python3"
  },
  "language_info": {
   "codemirror_mode": {
    "name": "ipython",
    "version": 3
   },
   "file_extension": ".py",
   "mimetype": "text/x-python",
   "name": "python",
   "nbconvert_exporter": "python",
   "pygments_lexer": "ipython3",
   "version": "3.8.2"
  }
 },
 "nbformat": 4,
 "nbformat_minor": 5
}
